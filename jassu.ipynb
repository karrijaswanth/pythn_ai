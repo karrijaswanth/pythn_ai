{
 "cells": [
  {
   "cell_type": "markdown",
   "id": "b5648dea",
   "metadata": {},
   "source": [
    "# markdown\n",
    "## markdown\n",
    "### markdown\n",
    "#### markdown\n",
    " - *python*\n",
    " \n",
    "             "
   ]
  },
  {
   "cell_type": "markdown",
   "id": "5081729f",
   "metadata": {},
   "source": [
    "- python 1\n",
    "- python 2\n",
    "         - python 1\n",
    "         - pyhon 2 \n",
    "**python**\n",
    "***a"
   ]
  },
  {
   "cell_type": "code",
   "execution_count": 2,
   "id": "05e1d690",
   "metadata": {},
   "outputs": [
    {
     "name": "stdout",
     "output_type": "stream",
     "text": [
      "hello world\n"
     ]
    }
   ],
   "source": [
    "print(\"hello world\")"
   ]
  },
  {
   "cell_type": "code",
   "execution_count": 3,
   "id": "81cf1e83",
   "metadata": {},
   "outputs": [
    {
     "name": "stdout",
     "output_type": "stream",
     "text": [
      "HELLO WORLD\n"
     ]
    }
   ],
   "source": [
    "print(\"HELLO WORLD\")"
   ]
  },
  {
   "cell_type": "code",
   "execution_count": 5,
   "id": "39e9d5a6",
   "metadata": {},
   "outputs": [
    {
     "name": "stdout",
     "output_type": "stream",
     "text": [
      "jaswanth mukesh gowtham\n"
     ]
    }
   ],
   "source": [
    "print(\"jaswanth mukesh gowtham\")"
   ]
  },
  {
   "cell_type": "code",
   "execution_count": 6,
   "id": "5d04bd2e",
   "metadata": {},
   "outputs": [
    {
     "name": "stdout",
     "output_type": "stream",
     "text": [
      "onetwothree\n"
     ]
    }
   ],
   "source": [
    "print(\"one\" \"two\" \"three\")"
   ]
  },
  {
   "cell_type": "code",
   "execution_count": 7,
   "id": "6df9575c",
   "metadata": {},
   "outputs": [
    {
     "name": "stdout",
     "output_type": "stream",
     "text": [
      "10\n"
     ]
    }
   ],
   "source": [
    "a=10 # single variables assained to a single value\n",
    "print(a)"
   ]
  },
  {
   "cell_type": "code",
   "execution_count": 8,
   "id": "03d9d86a",
   "metadata": {},
   "outputs": [
    {
     "name": "stdout",
     "output_type": "stream",
     "text": [
      "10 10 10\n"
     ]
    }
   ],
   "source": [
    "a = b= c=10 #multiple variables assined to,multipled values \n",
    "print(a,b,c)"
   ]
  },
  {
   "cell_type": "code",
   "execution_count": 9,
   "id": "0abf8292",
   "metadata": {},
   "outputs": [
    {
     "name": "stdout",
     "output_type": "stream",
     "text": [
      "10 20 30\n"
     ]
    }
   ],
   "source": [
    "#multiple variables assined to multiplcation values\n",
    "a,b,c=10,20,30\n",
    "print(a,b,c)"
   ]
  },
  {
   "cell_type": "code",
   "execution_count": 11,
   "id": "092b6243",
   "metadata": {},
   "outputs": [
    {
     "name": "stdout",
     "output_type": "stream",
     "text": [
      "5\n",
      "5 <class 'int'>\n"
     ]
    }
   ],
   "source": [
    "# int\n",
    "a =5\n",
    "print(a)\n",
    "print(a,type(a))"
   ]
  },
  {
   "cell_type": "markdown",
   "id": "7d7bf9a5",
   "metadata": {},
   "source": []
  },
  {
   "cell_type": "code",
   "execution_count": 13,
   "id": "360b8a55",
   "metadata": {},
   "outputs": [
    {
     "name": "stdout",
     "output_type": "stream",
     "text": [
      "5.5 <class 'float'>\n"
     ]
    }
   ],
   "source": [
    "# float\n",
    "f =5.5\n",
    "print(f,type(f))"
   ]
  },
  {
   "cell_type": "code",
   "execution_count": 14,
   "id": "31ad96f0",
   "metadata": {},
   "outputs": [
    {
     "name": "stdout",
     "output_type": "stream",
     "text": [
      "jaswanth <class 'str'>\n"
     ]
    }
   ],
   "source": [
    "# string\n",
    "s= \"jaswanth\"\n",
    "print(s,type(s))"
   ]
  },
  {
   "cell_type": "code",
   "execution_count": 17,
   "id": "13ed57a4",
   "metadata": {},
   "outputs": [
    {
     "name": "stdout",
     "output_type": "stream",
     "text": [
      "10 <class 'int'>\n",
      "10.0 <class 'float'>\n",
      "10 <class 'str'>\n"
     ]
    }
   ],
   "source": [
    "n= 10\n",
    "print(n,type(n))\n",
    "f= float(n)\n",
    "print(f,type(f))\n",
    "s = str(n)\n",
    "print(s,type(s))"
   ]
  },
  {
   "cell_type": "code",
   "execution_count": 23,
   "id": "725c34b8",
   "metadata": {},
   "outputs": [
    {
     "name": "stdout",
     "output_type": "stream",
     "text": [
      "1.3 <class 'float'>\n",
      "1 <class 'int'>\n",
      "1.3 <class 'str'>\n"
     ]
    }
   ],
   "source": [
    "f= 1.3\n",
    "print(f,type(f))\n",
    "n= int(f)\n",
    "print(n,type(n))\n",
    "s= str(f)\n",
    "print(s,type(s))"
   ]
  },
  {
   "cell_type": "code",
   "execution_count": 25,
   "id": "e769cf6a",
   "metadata": {},
   "outputs": [
    {
     "name": "stdout",
     "output_type": "stream",
     "text": [
      "123456 <class 'str'>\n",
      "123456 <class 'int'>\n",
      "123456.0 <class 'float'>\n"
     ]
    }
   ],
   "source": [
    "s=\"123456\"\n",
    "print(s,type(s))\n",
    "n =int(s)\n",
    "print(n,type(n))\n",
    "f =float(s)\n",
    "print(f,type(f))"
   ]
  },
  {
   "cell_type": "code",
   "execution_count": 27,
   "id": "2e837651",
   "metadata": {},
   "outputs": [
    {
     "name": "stdout",
     "output_type": "stream",
     "text": [
      "enter your name:jaswanth\n",
      "my name is: jaswanth\n",
      "<class 'str'>\n"
     ]
    }
   ],
   "source": [
    "#input as text\n",
    "a =input(\"enter your name:\")\n",
    "print(\"my name is:\",a)\n",
    "print(type(a))\n"
   ]
  },
  {
   "cell_type": "code",
   "execution_count": 28,
   "id": "c349b2be",
   "metadata": {},
   "outputs": [
    {
     "name": "stdout",
     "output_type": "stream",
     "text": [
      "enter a number:6\n",
      "6\n",
      "<class 'int'>\n"
     ]
    }
   ],
   "source": [
    "#inout as number\n",
    "q=int(input(\"enter a number:\"))\n",
    "print(q)\n",
    "print(type(q))\n"
   ]
  },
  {
   "cell_type": "code",
   "execution_count": 36,
   "id": "8656a8fe",
   "metadata": {},
   "outputs": [
    {
     "name": "stdout",
     "output_type": "stream",
     "text": [
      "enter radius:45\n",
      "area of circle is: 6358.5\n"
     ]
    }
   ],
   "source": [
    "#Write a Python program which accepts the radius of a circle from the user and compute the area .\n",
    "radius=int(input(\"enter radius:\"))\n",
    "area=3.14*radius**2\n",
    "print(\"area of circle is:\",area)\n"
   ]
  },
  {
   "cell_type": "code",
   "execution_count": 39,
   "id": "11579112",
   "metadata": {},
   "outputs": [
    {
     "name": "stdout",
     "output_type": "stream",
     "text": [
      "enter first value2\n",
      "enter second value5\n",
      "additionis 7 multiplcation 10 divsion 0.4\n"
     ]
    }
   ],
   "source": [
    "a=int(input(\"enter first value\" ))\n",
    "b=int(input(\"enter second value\"))\n",
    "print(\"additionis\",a+b,\"multiplcation\",a*b,\"divsion\",a/b)\n"
   ]
  },
  {
   "cell_type": "code",
   "execution_count": 42,
   "id": "7c5a9fdf",
   "metadata": {},
   "outputs": [
    {
     "name": "stdout",
     "output_type": "stream",
     "text": [
      "enter year:2065\n",
      "result 2115\n"
     ]
    }
   ],
   "source": [
    "year=int(input(\"enter year:\"))\n",
    "print(\"result\",year+50)"
   ]
  },
  {
   "cell_type": "code",
   "execution_count": 47,
   "id": "02b5b7d9",
   "metadata": {},
   "outputs": [
    {
     "name": "stdout",
     "output_type": "stream",
     "text": [
      "name**Is**James\n"
     ]
    }
   ],
   "source": [
    "x=\"name\"\n",
    "y=\"Is\"\n",
    "z=\"James\"\n",
    "print(x+\"**\"+y+\"**\"+z)"
   ]
  },
  {
   "cell_type": "code",
   "execution_count": null,
   "id": "e77f8a5b",
   "metadata": {},
   "outputs": [],
   "source": []
  }
 ],
 "metadata": {
  "kernelspec": {
   "display_name": "Python 3 (ipykernel)",
   "language": "python",
   "name": "python3"
  },
  "language_info": {
   "codemirror_mode": {
    "name": "ipython",
    "version": 3
   },
   "file_extension": ".py",
   "mimetype": "text/x-python",
   "name": "python",
   "nbconvert_exporter": "python",
   "pygments_lexer": "ipython3",
   "version": "3.9.7"
  }
 },
 "nbformat": 4,
 "nbformat_minor": 5
}
