{
 "cells": [
  {
   "cell_type": "markdown",
   "id": "dcff55b5",
   "metadata": {},
   "source": [
    "# Python operators\n",
    "- To perform operations on variables and values"
   ]
  },
  {
   "cell_type": "markdown",
   "id": "19230c6f",
   "metadata": {},
   "source": [
    "# Arithmetic operators:\n",
    "- used to perform mathematical operations\n",
    "   - operators\n",
    "  "
   ]
  },
  {
   "cell_type": "markdown",
   "id": "400926b6",
   "metadata": {},
   "source": [
    "x = 10\n",
    "y = 5\n",
    "print(x+y)\n",
    "print(x-y)\n",
    "print(x*y)\n",
    "print(x/y)\n",
    "print(x%y)\n",
    "print(x**y)\n",
    "print(x//y)"
   ]
  },
  {
   "cell_type": "markdown",
   "id": "9f040f79",
   "metadata": {},
   "source": [
    "# Assignment Operators:\n",
    "- used to assign values to variables\n",
    "- Operators:\n",
    "  "
   ]
  },
  {
   "cell_type": "code",
   "execution_count": 2,
   "id": "705330d4",
   "metadata": {},
   "outputs": [
    {
     "name": "stdout",
     "output_type": "stream",
     "text": [
      "7\n",
      "5\n",
      "20\n",
      "10.0\n",
      "0.0\n",
      "3125\n",
      "125\n"
     ]
    }
   ],
   "source": [
    "x = 3 \n",
    "x += 4 # x = x+4\n",
    "print(x)\n",
    "x -= 2\n",
    "print(x)\n",
    "x *= 4\n",
    "print(x)\n",
    "x /= 2\n",
    "print(x)\n",
    "x %= 5\n",
    "print(x)\n",
    "x = 5\n",
    "x **=5\n",
    "print(x)\n",
    "x //= 25\n",
    "print(x)"
   ]
  },
  {
   "cell_type": "markdown",
   "id": "0908e00e",
   "metadata": {},
   "source": [
    "# Comparison operators\n",
    "- used to compare the values"
   ]
  },
  {
   "cell_type": "code",
   "execution_count": 4,
   "id": "65fe5821",
   "metadata": {},
   "outputs": [
    {
     "name": "stdout",
     "output_type": "stream",
     "text": [
      "False\n",
      "True\n",
      "True\n",
      "False\n",
      "True\n",
      "False\n"
     ]
    }
   ],
   "source": [
    "x = 4\n",
    "y = 17\n",
    "print(x==y)\n",
    "print(x!=y)\n",
    "print(x<y)\n",
    "print(x>y) \n",
    "print(x<=y)\n",
    "print(x>=y)"
   ]
  },
  {
   "cell_type": "markdown",
   "id": "fe08e97c",
   "metadata": {},
   "source": [
    "# Logical Operators:\n",
    "- used to compare conditional statements\n",
    "- operators:\n",
    "   \n",
    "   "
   ]
  },
  {
   "cell_type": "code",
   "execution_count": 5,
   "id": "13d4b5b8",
   "metadata": {},
   "outputs": [
    {
     "name": "stdout",
     "output_type": "stream",
     "text": [
      "False\n",
      "True\n",
      "False\n"
     ]
    }
   ],
   "source": [
    "x = 4\n",
    "print(x > 3 and x > 7)\n",
    "print(x > 3 or x > 7)\n",
    "print(not(x > 3 or x > 7))"
   ]
  },
  {
   "cell_type": "markdown",
   "id": "ddda1458",
   "metadata": {},
   "source": [
    "# Identity operators:\n",
    "- used to compare objects"
   ]
  },
  {
   "cell_type": "code",
   "execution_count": 6,
   "id": "973d7ef1",
   "metadata": {},
   "outputs": [
    {
     "name": "stdout",
     "output_type": "stream",
     "text": [
      "False\n",
      "True\n",
      "False\n",
      "False\n"
     ]
    }
   ],
   "source": [
    "a = 3\n",
    "b = 7\n",
    "c = 3\n",
    "print(a is b)\n",
    "print(a is c)\n",
    "print(a is not c)\n",
    "print(a is b is not c)"
   ]
  },
  {
   "cell_type": "markdown",
   "id": "79e109c6",
   "metadata": {},
   "source": [
    "# Membership operators\n",
    "- used to text given sequence is presented in object\n",
    "\n",
    "    \n",
    "  "
   ]
  },
  {
   "cell_type": "code",
   "execution_count": 12,
   "id": "69fe35c0",
   "metadata": {},
   "outputs": [
    {
     "name": "stdout",
     "output_type": "stream",
     "text": [
      "True\n",
      "False\n",
      "True\n",
      "False\n"
     ]
    }
   ],
   "source": [
    "a = \"memory\"\n",
    "print(\"y\"in a)\n",
    "print(\"c\" in a)\n",
    "print(\"r\" in a)\n",
    "print(\"o\" not in a)"
   ]
  },
  {
   "cell_type": "markdown",
   "id": "4d070511",
   "metadata": {},
   "source": [
    "# Control flow statements:\n",
    "- conditional statements\n",
    "  - if-else statement\n",
    "- looping statements\n",
    "  - while loop statement\n",
    "  - for loop statement"
   ]
  },
  {
   "cell_type": "markdown",
   "id": "8c8e684a",
   "metadata": {},
   "source": [
    "# if- else statement"
   ]
  },
  {
   "cell_type": "code",
   "execution_count": null,
   "id": "8fd81db1",
   "metadata": {},
   "outputs": [],
   "source": [
    "#syntax:\n",
    "if boolean_condition:\n",
    "     statement\n",
    "elif:\n",
    "     statement\n",
    "else:\n",
    "     statement"
   ]
  },
  {
   "cell_type": "code",
   "execution_count": 13,
   "id": "574d7df7",
   "metadata": {},
   "outputs": [
    {
     "name": "stdout",
     "output_type": "stream",
     "text": [
      "Enter a number:8\n",
      "Even number\n"
     ]
    }
   ],
   "source": [
    "# check given is evne or odd\n",
    "n = int(input(\"Enter a number:\"))\n",
    "if n %2 ==0:\n",
    "    print(\"Even number\")\n",
    "else:\n",
    "    print(\"odd number\")"
   ]
  },
  {
   "cell_type": "code",
   "execution_count": 14,
   "id": "45d67bf6",
   "metadata": {},
   "outputs": [
    {
     "name": "stdout",
     "output_type": "stream",
     "text": [
      "Enter a number :25\n",
      "no\n"
     ]
    }
   ],
   "source": [
    "# check given is multiplies of both 3 and 5\n",
    "n = int(input(\"Enter a number :\"))\n",
    "if n%3==0 and n%5==0:\n",
    "    print(\"yes\")\n",
    "else:\n",
    "    print(\"no\")"
   ]
  },
  {
   "cell_type": "code",
   "execution_count": 28,
   "id": "f0ed711b",
   "metadata": {},
   "outputs": [
    {
     "name": "stdout",
     "output_type": "stream",
     "text": [
      "Enter a number :4\n",
      "positve\n"
     ]
    }
   ],
   "source": [
    "# check given is positive number ,negative number or zero\n",
    "n = int(input(\"Enter a number :\"))\n",
    "if n>0 :\n",
    "    \n",
    "    print(\"positve\")\n",
    "elif  n<0 :\n",
    "    print(\"negtaive\")\n",
    "else  : \n",
    "    print(\"zero\")\n",
    "    "
   ]
  },
  {
   "cell_type": "code",
   "execution_count": 29,
   "id": "6497c854",
   "metadata": {},
   "outputs": [
    {
     "name": "stdout",
     "output_type": "stream",
     "text": [
      "Enter a number :29\n",
      "Enter a number :12\n",
      "Enter a number :11\n",
      "a is larger number\n"
     ]
    }
   ],
   "source": [
    "# find the large number by given 3 inputs\n",
    "a = int(input(\"Enter a number :\"))\n",
    "b = int(input(\"Enter a number :\"))\n",
    "c = int(input(\"Enter a number :\"))\n",
    "if a>b and a>c :\n",
    "    \n",
    "    print(\"a is larger number\")\n",
    "elif b>a and b>c :\n",
    "    print(\"b is larger number\")\n",
    "else :\n",
    "    print(\"c is larger number\")"
   ]
  },
  {
   "cell_type": "code",
   "execution_count": 50,
   "id": "15f501ac",
   "metadata": {},
   "outputs": [
    {
     "name": "stdout",
     "output_type": "stream",
     "text": [
      "enter a marks11\n",
      "F grade\n"
     ]
    }
   ],
   "source": [
    "# find grading\n",
    "a = int(input(\"enter a marks\"))\n",
    "if n>=80 :\n",
    "    print(\"A grade\")\n",
    "elif n==60 and n<80 :\n",
    "    print(\"B garde\")\n",
    "elif n==50 and n<60 :\n",
    "    print(\"c grade\")\n",
    "elif n==45 and n<50 :\n",
    "    print(\"D grade\")\n",
    "elif n==25 and n<45 :\n",
    "    print(\"E grade\")\n",
    "else :\n",
    "    print (\"F grade\")\n"
   ]
  },
  {
   "cell_type": "markdown",
   "id": "5567d604",
   "metadata": {},
   "source": [
    "# While loop statement"
   ]
  },
  {
   "cell_type": "code",
   "execution_count": 51,
   "id": "d755f48a",
   "metadata": {},
   "outputs": [
    {
     "name": "stdout",
     "output_type": "stream",
     "text": [
      "python\n",
      "python\n",
      "python\n",
      "python\n",
      "python\n"
     ]
    }
   ],
   "source": [
    "i = 0\n",
    "while i <5:\n",
    "    print(\"python\")\n",
    "    i = i+1"
   ]
  },
  {
   "cell_type": "code",
   "execution_count": 65,
   "id": "f1e5ed16",
   "metadata": {},
   "outputs": [
    {
     "name": "stdout",
     "output_type": "stream",
     "text": [
      "1 2 3 4 5 6 7 8 9 10 "
     ]
    }
   ],
   "source": [
    "# print 1 to 10 number\n",
    "i = 1\n",
    "while i <11:\n",
    "    print(i,end=\" \")\n",
    "    i = i+1"
   ]
  },
  {
   "cell_type": "code",
   "execution_count": 64,
   "id": "04f40318",
   "metadata": {},
   "outputs": [
    {
     "name": "stdout",
     "output_type": "stream",
     "text": [
      "2 4 6 8 10 "
     ]
    }
   ],
   "source": [
    "# print even numbers from 1 to 10\n",
    "i = 1\n",
    "while i <= 10:\n",
    "    if i%2== 0:\n",
    "        print(i,end=\" \")\n",
    "    i=i+1\n",
    "    \n",
    "     \n"
   ]
  },
  {
   "cell_type": "code",
   "execution_count": 67,
   "id": "1f0cd783",
   "metadata": {},
   "outputs": [
    {
     "name": "stdout",
     "output_type": "stream",
     "text": [
      "25\n",
      "1 5 25 "
     ]
    }
   ],
   "source": [
    "# input : 6 output:1236\n",
    "i = 1\n",
    "n = int(input())\n",
    "while i<=n:\n",
    "    if n%i ==0:\n",
    "        print(i,end = \" \")\n",
    "    i=i+1"
   ]
  },
  {
   "cell_type": "code",
   "execution_count": null,
   "id": "656e934b",
   "metadata": {},
   "outputs": [],
   "source": []
  }
 ],
 "metadata": {
  "kernelspec": {
   "display_name": "Python 3 (ipykernel)",
   "language": "python",
   "name": "python3"
  },
  "language_info": {
   "codemirror_mode": {
    "name": "ipython",
    "version": 3
   },
   "file_extension": ".py",
   "mimetype": "text/x-python",
   "name": "python",
   "nbconvert_exporter": "python",
   "pygments_lexer": "ipython3",
   "version": "3.9.7"
  }
 },
 "nbformat": 4,
 "nbformat_minor": 5
}
